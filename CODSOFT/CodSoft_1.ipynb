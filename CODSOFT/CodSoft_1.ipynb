{
 "cells": [
  {
   "cell_type": "code",
   "execution_count": 17,
   "id": "7dd3fefa",
   "metadata": {},
   "outputs": [],
   "source": [
    "#Deep Bagul \n",
    "#Proble,_Statement --  TITANIC SURVIVAL PREDICTION\n",
    "\n",
    "#Use the Titanic dataset to build a model that predicts whether a\n",
    "#passenger on the Titanic survived or not. This is a classic beginner\n",
    "#project with readily available data.\n",
    "#about individual passengers, such as their age, gender, ticket\n",
    "#class, fare, cabin, and whether or not they survived. "
   ]
  },
  {
   "cell_type": "code",
   "execution_count": 62,
   "id": "c4da9d85",
   "metadata": {},
   "outputs": [],
   "source": [
    "import pandas as pd\n",
    "from sklearn.model_selection import train_test_split\n",
    "from sklearn.ensemble import RandomForestClassifier\n",
    "from sklearn.metrics import accuracy_score, classification_report\n",
    "from sklearn.preprocessing import StandardScaler\n"
   ]
  },
  {
   "cell_type": "code",
   "execution_count": 63,
   "id": "de9cf2c7",
   "metadata": {},
   "outputs": [],
   "source": [
    "titanic_data = pd.read_csv('C:\\\\Users\\\\Deep\\\\Downloads\\\\tested.csv')"
   ]
  },
  {
   "cell_type": "code",
   "execution_count": 64,
   "id": "0dbd90b4",
   "metadata": {},
   "outputs": [
    {
     "name": "stdout",
     "output_type": "stream",
     "text": [
      "   PassengerId  Survived  Pclass  \\\n",
      "0          892         0       3   \n",
      "1          893         1       3   \n",
      "2          894         0       2   \n",
      "3          895         0       3   \n",
      "4          896         1       3   \n",
      "\n",
      "                                           Name     Sex   Age  SibSp  Parch  \\\n",
      "0                              Kelly, Mr. James    male  34.5      0      0   \n",
      "1              Wilkes, Mrs. James (Ellen Needs)  female  47.0      1      0   \n",
      "2                     Myles, Mr. Thomas Francis    male  62.0      0      0   \n",
      "3                              Wirz, Mr. Albert    male  27.0      0      0   \n",
      "4  Hirvonen, Mrs. Alexander (Helga E Lindqvist)  female  22.0      1      1   \n",
      "\n",
      "    Ticket     Fare Cabin Embarked  \n",
      "0   330911   7.8292   NaN        Q  \n",
      "1   363272   7.0000   NaN        S  \n",
      "2   240276   9.6875   NaN        Q  \n",
      "3   315154   8.6625   NaN        S  \n",
      "4  3101298  12.2875   NaN        S  \n"
     ]
    }
   ],
   "source": [
    "print(titanic_data.head())"
   ]
  },
  {
   "cell_type": "code",
   "execution_count": 65,
   "id": "df12e1e7",
   "metadata": {},
   "outputs": [
    {
     "name": "stdout",
     "output_type": "stream",
     "text": [
      "<class 'pandas.core.frame.DataFrame'>\n",
      "RangeIndex: 418 entries, 0 to 417\n",
      "Data columns (total 12 columns):\n",
      " #   Column       Non-Null Count  Dtype  \n",
      "---  ------       --------------  -----  \n",
      " 0   PassengerId  418 non-null    int64  \n",
      " 1   Survived     418 non-null    int64  \n",
      " 2   Pclass       418 non-null    int64  \n",
      " 3   Name         418 non-null    object \n",
      " 4   Sex          418 non-null    object \n",
      " 5   Age          332 non-null    float64\n",
      " 6   SibSp        418 non-null    int64  \n",
      " 7   Parch        418 non-null    int64  \n",
      " 8   Ticket       418 non-null    object \n",
      " 9   Fare         417 non-null    float64\n",
      " 10  Cabin        91 non-null     object \n",
      " 11  Embarked     418 non-null    object \n",
      "dtypes: float64(2), int64(5), object(5)\n",
      "memory usage: 39.3+ KB\n",
      "None\n"
     ]
    }
   ],
   "source": [
    "print(titanic_data.info())"
   ]
  },
  {
   "cell_type": "code",
   "execution_count": 66,
   "id": "882c48f0",
   "metadata": {},
   "outputs": [
    {
     "name": "stdout",
     "output_type": "stream",
     "text": [
      "       PassengerId    Survived      Pclass         Age       SibSp  \\\n",
      "count   418.000000  418.000000  418.000000  332.000000  418.000000   \n",
      "mean   1100.500000    0.363636    2.265550   30.272590    0.447368   \n",
      "std     120.810458    0.481622    0.841838   14.181209    0.896760   \n",
      "min     892.000000    0.000000    1.000000    0.170000    0.000000   \n",
      "25%     996.250000    0.000000    1.000000   21.000000    0.000000   \n",
      "50%    1100.500000    0.000000    3.000000   27.000000    0.000000   \n",
      "75%    1204.750000    1.000000    3.000000   39.000000    1.000000   \n",
      "max    1309.000000    1.000000    3.000000   76.000000    8.000000   \n",
      "\n",
      "            Parch        Fare  \n",
      "count  418.000000  417.000000  \n",
      "mean     0.392344   35.627188  \n",
      "std      0.981429   55.907576  \n",
      "min      0.000000    0.000000  \n",
      "25%      0.000000    7.895800  \n",
      "50%      0.000000   14.454200  \n",
      "75%      0.000000   31.500000  \n",
      "max      9.000000  512.329200  \n"
     ]
    }
   ],
   "source": [
    "print(titanic_data.describe())"
   ]
  },
  {
   "cell_type": "code",
   "execution_count": 67,
   "id": "75df902f",
   "metadata": {},
   "outputs": [],
   "source": [
    "titanic_data['Age'].fillna(titanic_data['Age'].median(), inplace=True)"
   ]
  },
  {
   "cell_type": "code",
   "execution_count": 68,
   "id": "01a79313",
   "metadata": {},
   "outputs": [],
   "source": [
    "titanic_data['Embarked'].fillna(titanic_data['Embarked'].mode()[0], inplace=True)"
   ]
  },
  {
   "cell_type": "code",
   "execution_count": 69,
   "id": "1b94e0e1",
   "metadata": {},
   "outputs": [],
   "source": [
    "titanic_data = pd.get_dummies(titanic_data, columns=['Sex', 'Embarked'], drop_first=True)\n"
   ]
  },
  {
   "cell_type": "code",
   "execution_count": 70,
   "id": "2b5996ad",
   "metadata": {},
   "outputs": [],
   "source": [
    "\n",
    "features = ['Pclass', 'Age', 'Sex_male', 'SibSp', 'Parch', 'Fare', 'Embarked_Q', 'Embarked_S']\n",
    "X = titanic_data[features]\n",
    "y = titanic_data['Survived']\n"
   ]
  },
  {
   "cell_type": "code",
   "execution_count": 71,
   "id": "a857744a",
   "metadata": {},
   "outputs": [],
   "source": [
    "from sklearn.model_selection import train_test_split\n",
    "\n",
    "X_train, X_test, y_train, y_test = train_test_split(X, y, test_size=0.2, random_state=42)\n"
   ]
  },
  {
   "cell_type": "code",
   "execution_count": 72,
   "id": "14b114fe",
   "metadata": {},
   "outputs": [],
   "source": [
    "scaler = StandardScaler()\n",
    "X_train_scaled = scaler.fit_transform(X_train)\n",
    "X_test_scaled = scaler.transform(X_test)"
   ]
  },
  {
   "cell_type": "code",
   "execution_count": 73,
   "id": "3d338140",
   "metadata": {},
   "outputs": [
    {
     "name": "stdout",
     "output_type": "stream",
     "text": [
      "Max Scaled Fare: nan\n",
      "Any NaN in Scaled Fare? 0    False\n",
      "1    False\n",
      "2    False\n",
      "3    False\n",
      "4    False\n",
      "5     True\n",
      "6    False\n",
      "7    False\n",
      "dtype: bool\n"
     ]
    }
   ],
   "source": [
    "print(\"Max Scaled Fare:\", X_train_scaled[:, features.index('Fare')].max())\n",
    "print(\"Any NaN in Scaled Fare?\", pd.DataFrame(X_train_scaled).isnull().any())\n"
   ]
  },
  {
   "cell_type": "code",
   "execution_count": 74,
   "id": "d6038ef2",
   "metadata": {},
   "outputs": [],
   "source": [
    "model = RandomForestClassifier(random_state=42)\n"
   ]
  },
  {
   "cell_type": "code",
   "execution_count": 75,
   "id": "cbf5b0c9",
   "metadata": {},
   "outputs": [
    {
     "name": "stdout",
     "output_type": "stream",
     "text": [
      "NaN count: 1\n",
      "Infinity count: 0\n"
     ]
    }
   ],
   "source": [
    "import numpy as np\n",
    "\n",
    "nan_indices = np.isnan(X_train_scaled)\n",
    "inf_indices = np.isinf(X_train_scaled)\n",
    "\n",
    "print(\"NaN count:\", np.sum(nan_indices))\n",
    "print(\"Infinity count:\", np.sum(inf_indices))\n"
   ]
  },
  {
   "cell_type": "code",
   "execution_count": 76,
   "id": "5e9ffc6c",
   "metadata": {},
   "outputs": [],
   "source": [
    "X_train_scaled[nan_indices] = np.nanmedian(X_train_scaled)\n",
    "X_train_scaled[inf_indices] = np.nanmedian(X_train_scaled)\n",
    "\n",
    "\n"
   ]
  },
  {
   "cell_type": "code",
   "execution_count": 77,
   "id": "e059ad68",
   "metadata": {},
   "outputs": [],
   "source": [
    "scaler = StandardScaler()\n",
    "X_train_scaled = scaler.fit_transform(X_train)\n"
   ]
  },
  {
   "cell_type": "code",
   "execution_count": 78,
   "id": "10396fe5",
   "metadata": {},
   "outputs": [
    {
     "name": "stdout",
     "output_type": "stream",
     "text": [
      "Max values: Pclass          3.0000\n",
      "Age            76.0000\n",
      "Sex_male        1.0000\n",
      "SibSp           8.0000\n",
      "Parch           9.0000\n",
      "Fare          512.3292\n",
      "Embarked_Q      1.0000\n",
      "Embarked_S      1.0000\n",
      "dtype: float64\n"
     ]
    }
   ],
   "source": [
    "max_values = X_train.max(axis=0)\n",
    "print(\"Max values:\", max_values)\n"
   ]
  },
  {
   "cell_type": "code",
   "execution_count": 79,
   "id": "0f1228db",
   "metadata": {},
   "outputs": [],
   "source": [
    "model = RandomForestClassifier(random_state=42)"
   ]
  },
  {
   "cell_type": "code",
   "execution_count": 80,
   "id": "27a9e005",
   "metadata": {},
   "outputs": [
    {
     "name": "stdout",
     "output_type": "stream",
     "text": [
      "NaN count in y_train: 0\n",
      "Infinity count in y_train: 0\n"
     ]
    }
   ],
   "source": [
    "print(\"NaN count in y_train:\", y_train.isnull().sum())\n",
    "print(\"Infinity count in y_train:\", np.isinf(y_train).sum())\n"
   ]
  },
  {
   "cell_type": "code",
   "execution_count": 81,
   "id": "ac08fc1d",
   "metadata": {},
   "outputs": [
    {
     "name": "stdout",
     "output_type": "stream",
     "text": [
      "   PassengerId  Survived  Pclass  \\\n",
      "0          892         0       3   \n",
      "1          893         1       3   \n",
      "2          894         0       2   \n",
      "3          895         0       3   \n",
      "4          896         1       3   \n",
      "\n",
      "                                           Name   Age  SibSp  Parch   Ticket  \\\n",
      "0                              Kelly, Mr. James  34.5      0      0   330911   \n",
      "1              Wilkes, Mrs. James (Ellen Needs)  47.0      1      0   363272   \n",
      "2                     Myles, Mr. Thomas Francis  62.0      0      0   240276   \n",
      "3                              Wirz, Mr. Albert  27.0      0      0   315154   \n",
      "4  Hirvonen, Mrs. Alexander (Helga E Lindqvist)  22.0      1      1  3101298   \n",
      "\n",
      "      Fare Cabin  Sex_male  Embarked_Q  Embarked_S  \n",
      "0   7.8292   NaN         1           1           0  \n",
      "1   7.0000   NaN         0           0           1  \n",
      "2   9.6875   NaN         1           1           0  \n",
      "3   8.6625   NaN         1           0           1  \n",
      "4  12.2875   NaN         0           0           1  \n"
     ]
    }
   ],
   "source": [
    "print(titanic_data.head())"
   ]
  },
  {
   "cell_type": "code",
   "execution_count": 82,
   "id": "612fd1a3",
   "metadata": {},
   "outputs": [],
   "source": [
    "titanic_data['Cabin'].fillna(0, inplace=True)\n",
    "\n",
    "\n"
   ]
  },
  {
   "cell_type": "code",
   "execution_count": 83,
   "id": "9a8a2612",
   "metadata": {},
   "outputs": [
    {
     "name": "stdout",
     "output_type": "stream",
     "text": [
      "   PassengerId  Survived  Pclass  \\\n",
      "0          892         0       3   \n",
      "1          893         1       3   \n",
      "2          894         0       2   \n",
      "3          895         0       3   \n",
      "4          896         1       3   \n",
      "\n",
      "                                           Name   Age  SibSp  Parch   Ticket  \\\n",
      "0                              Kelly, Mr. James  34.5      0      0   330911   \n",
      "1              Wilkes, Mrs. James (Ellen Needs)  47.0      1      0   363272   \n",
      "2                     Myles, Mr. Thomas Francis  62.0      0      0   240276   \n",
      "3                              Wirz, Mr. Albert  27.0      0      0   315154   \n",
      "4  Hirvonen, Mrs. Alexander (Helga E Lindqvist)  22.0      1      1  3101298   \n",
      "\n",
      "      Fare Cabin  Sex_male  Embarked_Q  Embarked_S  \n",
      "0   7.8292     0         1           1           0  \n",
      "1   7.0000     0         0           0           1  \n",
      "2   9.6875     0         1           1           0  \n",
      "3   8.6625     0         1           0           1  \n",
      "4  12.2875     0         0           0           1  \n"
     ]
    }
   ],
   "source": [
    "print(titanic_data.head())"
   ]
  },
  {
   "cell_type": "code",
   "execution_count": 84,
   "id": "2e90ac23",
   "metadata": {},
   "outputs": [
    {
     "name": "stdout",
     "output_type": "stream",
     "text": [
      "NaN count: 1\n",
      "Infinity count: 0\n"
     ]
    }
   ],
   "source": [
    "nan_indices = np.isnan(X_train_scaled)\n",
    "inf_indices = np.isinf(X_train_scaled)\n",
    "\n",
    "print(\"NaN count:\", np.sum(nan_indices))\n",
    "print(\"Infinity count:\", np.sum(inf_indices))\n"
   ]
  },
  {
   "cell_type": "code",
   "execution_count": 85,
   "id": "c0b1d129",
   "metadata": {},
   "outputs": [],
   "source": [
    "X_train_scaled[nan_indices] = np.nanmedian(X_train_scaled)\n",
    "X_train_scaled[inf_indices] = np.nanmedian(X_train_scaled)\n"
   ]
  },
  {
   "cell_type": "code",
   "execution_count": 86,
   "id": "73bae78f",
   "metadata": {},
   "outputs": [
    {
     "name": "stdout",
     "output_type": "stream",
     "text": [
      "Data types: float64\n"
     ]
    }
   ],
   "source": [
    "print(\"Data types:\", X_train_scaled.dtype)\n"
   ]
  },
  {
   "cell_type": "code",
   "execution_count": 87,
   "id": "a1b7697f",
   "metadata": {},
   "outputs": [
    {
     "name": "stdout",
     "output_type": "stream",
     "text": [
      "Max values: [0.86587998 3.57606513 0.73911859 7.98251817 9.18641221 8.20149968\n",
      " 2.79096286 0.74883086]\n"
     ]
    }
   ],
   "source": [
    "max_values = np.max(X_train_scaled, axis=0)\n",
    "print(\"Max values:\", max_values)\n"
   ]
  },
  {
   "cell_type": "code",
   "execution_count": 88,
   "id": "a309c6f3",
   "metadata": {},
   "outputs": [
    {
     "data": {
      "text/plain": [
       "RandomForestClassifier(random_state=42)"
      ]
     },
     "execution_count": 88,
     "metadata": {},
     "output_type": "execute_result"
    }
   ],
   "source": [
    "model.fit(X_train_scaled, y_train)"
   ]
  },
  {
   "cell_type": "code",
   "execution_count": 89,
   "id": "25c62b44",
   "metadata": {},
   "outputs": [
    {
     "name": "stdout",
     "output_type": "stream",
     "text": [
      "Accuracy: 0.5952380952380952\n",
      "Classification Report:\n",
      "               precision    recall  f1-score   support\n",
      "\n",
      "           0       0.60      1.00      0.75        50\n",
      "           1       0.00      0.00      0.00        34\n",
      "\n",
      "    accuracy                           0.60        84\n",
      "   macro avg       0.30      0.50      0.37        84\n",
      "weighted avg       0.35      0.60      0.44        84\n",
      "\n"
     ]
    },
    {
     "name": "stderr",
     "output_type": "stream",
     "text": [
      "C:\\ProgramData\\Anaconda3\\lib\\site-packages\\sklearn\\base.py:443: UserWarning: X has feature names, but RandomForestClassifier was fitted without feature names\n",
      "  warnings.warn(\n",
      "C:\\ProgramData\\Anaconda3\\lib\\site-packages\\sklearn\\metrics\\_classification.py:1318: UndefinedMetricWarning: Precision and F-score are ill-defined and being set to 0.0 in labels with no predicted samples. Use `zero_division` parameter to control this behavior.\n",
      "  _warn_prf(average, modifier, msg_start, len(result))\n",
      "C:\\ProgramData\\Anaconda3\\lib\\site-packages\\sklearn\\metrics\\_classification.py:1318: UndefinedMetricWarning: Precision and F-score are ill-defined and being set to 0.0 in labels with no predicted samples. Use `zero_division` parameter to control this behavior.\n",
      "  _warn_prf(average, modifier, msg_start, len(result))\n",
      "C:\\ProgramData\\Anaconda3\\lib\\site-packages\\sklearn\\metrics\\_classification.py:1318: UndefinedMetricWarning: Precision and F-score are ill-defined and being set to 0.0 in labels with no predicted samples. Use `zero_division` parameter to control this behavior.\n",
      "  _warn_prf(average, modifier, msg_start, len(result))\n"
     ]
    }
   ],
   "source": [
    "from sklearn.metrics import accuracy_score, classification_report\n",
    "y_pred = model.predict(X_test)\n",
    "accuracy = accuracy_score(y_test, y_pred)\n",
    "report = classification_report(y_test, y_pred)\n",
    "\n",
    "print(f\"Accuracy: {accuracy}\")\n",
    "print(\"Classification Report:\\n\", report)\n"
   ]
  },
  {
   "cell_type": "code",
   "execution_count": null,
   "id": "4ba4fe93",
   "metadata": {},
   "outputs": [],
   "source": []
  }
 ],
 "metadata": {
  "kernelspec": {
   "display_name": "Python 3 (ipykernel)",
   "language": "python",
   "name": "python3"
  },
  "language_info": {
   "codemirror_mode": {
    "name": "ipython",
    "version": 3
   },
   "file_extension": ".py",
   "mimetype": "text/x-python",
   "name": "python",
   "nbconvert_exporter": "python",
   "pygments_lexer": "ipython3",
   "version": "3.9.13"
  }
 },
 "nbformat": 4,
 "nbformat_minor": 5
}
